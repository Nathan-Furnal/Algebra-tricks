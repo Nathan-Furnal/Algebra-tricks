{
 "cells": [
  {
   "cell_type": "markdown",
   "metadata": {},
   "source": [
    "# Algebra tricks\n",
    "\n",
    "This notebook was initially prompted by the question of how zero correlated variables generate the same estimates in individual linear regressions and multivariate regressions. The setup is the following :\n",
    "\n",
    "$$\n",
    "\\begin{align*}\n",
    "Y &= \\beta_0 + \\beta_x X + U \\\\ \\\n",
    "Y &= \\beta_0 + \\beta_z Z + U \\\\\n",
    "Y &= \\beta_0 + \\beta_x X + \\beta_z Z + U \\\\\n",
    "\\end{align*}\n",
    "$$\n",
    "\n",
    "where\n",
    "\n",
    "$$\n",
    "\\begin{align*}\n",
    "E[U|X], E[U|Z], E[U|X,Z] = 0\n",
    "\\end{align*}\n",
    "$$\n",
    "\n",
    "If $X$ and $Z$ have a correlation of zero, we expect that $\\beta_x$ and $\\beta_z$ are the same in the simple linear correlation and in the regression with two dependent variables.\n",
    "\n",
    "The question now becomes, how do you we ensure zero correlation between pseudo-random vectors? \n",
    "Samples generated from random number generators are not typically zero correlated unless we have very large samples. So how could we ensure a specific statistic for our vectors?\n",
    "\n",
    "Let us generate small vectors and compute their correlation."
   ]
  },
  {
   "cell_type": "code",
   "execution_count": 144,
   "metadata": {
    "collapsed": false,
    "jupyter": {
     "outputs_hidden": false
    }
   },
   "outputs": [],
   "source": [
    "# How to use numpy.random here : https://numpy.org/doc/stable/reference/random/index.html#quick-start\n",
    "\n",
    "import numpy as np\n",
    "from numpy.random import default_rng\n",
    "rng = default_rng()\n",
    "\n",
    "# Data manipulation and I/O\n",
    "\n",
    "import pandas as pd\n",
    "\n",
    "# Proper types\n",
    "\n",
    "from typing import Tuple"
   ]
  },
  {
   "cell_type": "markdown",
   "metadata": {},
   "source": [
    "You can run the code down below multiple times, you will get a different correlation (on the second diagonal) every time, yet it's far from zero."
   ]
  },
  {
   "cell_type": "code",
   "execution_count": 145,
   "metadata": {},
   "outputs": [
    {
     "data": {
      "text/plain": [
       "array([[ 1.       , -0.1454901],\n",
       "       [-0.1454901,  1.       ]])"
      ]
     },
     "execution_count": 145,
     "metadata": {},
     "output_type": "execute_result"
    }
   ],
   "source": [
    "n = 20\n",
    "a = rng.standard_normal(n)\n",
    "b = rng.standard_normal(n)\n",
    "\n",
    "np.corrcoef(a,b)"
   ]
  },
  {
   "cell_type": "markdown",
   "metadata": {},
   "source": [
    "That's no good because we can't enforce zero correlation like that."
   ]
  },
  {
   "cell_type": "markdown",
   "metadata": {},
   "source": [
    "What's interesting though is that we can use some linear algebra to create zero correlated vectors, the math and logic behind it is outlined and explained in details in [Stachurski's Economic Theory](https://python.quantecon.org/_static/lecture_specific/linear_algebra/course_notes.pdf), Chapter 3. Overall, the [Quantecon](https://python.quantecon.org/linear_algebra.html) lectures are excellent. \n",
    "\n",
    "In substance, it explains that $\\hat{Y} = \\hat{\\beta}' X$, the estimated values of the dependent variable, is the linear mapping of $Y$ onto $X$. Such that $Y - \\hat{Y}$ is orthogonal (shown as $\\perp$) to $X$. We can use that property to create uncorrelated samples."
   ]
  },
  {
   "cell_type": "markdown",
   "metadata": {},
   "source": [
    "The first function, `create_shape_arrays` let's up setup random vectors `x` and `y` as well as a matrix `X` which will be the input to an OLS regression."
   ]
  },
  {
   "cell_type": "code",
   "execution_count": 146,
   "metadata": {},
   "outputs": [],
   "source": [
    "def create_shape_arrays(N: int) -> Tuple[np.ndarray, np.ndarray, np.ndarray]:\n",
    "    x, y = rng.standard_normal(size = (2, N))\n",
    "    x, y = map(lambda x: x.T, np.atleast_2d(x,y))\n",
    "    X = np.column_stack((np.ones(N), x))\n",
    "    return X, y, x"
   ]
  },
  {
   "cell_type": "markdown",
   "metadata": {},
   "source": [
    "The second function, `ols`, runs the classical OLS regression and outputs the estimated value $\\hat{y}$ as well as the residuals of the regression."
   ]
  },
  {
   "cell_type": "code",
   "execution_count": 147,
   "metadata": {},
   "outputs": [],
   "source": [
    "def ols(X: np.ndarray ,y: np.ndarray) -> Tuple[np.ndarray, np.ndarray]:\n",
    "    betas = np.linalg.lstsq(X, y, rcond=None)[0]\n",
    "    yhat = np.einsum(\"nk, km -> nm\", X, betas)\n",
    "    resid = y - yhat\n",
    "    return yhat, resid"
   ]
  },
  {
   "cell_type": "markdown",
   "metadata": {},
   "source": [
    "`corr_two_vars` is simply a wrapper around `np.corrcoef` to output the value of the correlation rather than the whole correlation matrix."
   ]
  },
  {
   "cell_type": "code",
   "execution_count": 148,
   "metadata": {},
   "outputs": [],
   "source": [
    "def corr_two_vars(a: np.ndarray, b: np.ndarray) -> float:\n",
    "    return np.corrcoef(a,b)[0, 1]"
   ]
  },
  {
   "cell_type": "markdown",
   "metadata": {},
   "source": [
    "Finally, `ortho_arrays` takes in all we've done before and returns the vector `x` as well as the residuals ($y - \\hat{y}$), those are the two we are interested in because there are uncorrelated. It also outputs the correlation between the two vectors."
   ]
  },
  {
   "cell_type": "code",
   "execution_count": 149,
   "metadata": {},
   "outputs": [],
   "source": [
    "def ortho_arrays(N: int) -> Tuple[np.ndarray, np.ndarray, float]:\n",
    "    X, y, x = create_shape_arrays(N)\n",
    "    yhat, resid = ols(X, y)\n",
    "    corr = corr_two_vars(x.flatten(), resid.flatten())\n",
    "    return x, resid, corr"
   ]
  },
  {
   "cell_type": "markdown",
   "metadata": {},
   "source": [
    "Now we can just run it with an arbitrary small `N` > 1."
   ]
  },
  {
   "cell_type": "code",
   "execution_count": 150,
   "metadata": {},
   "outputs": [],
   "source": [
    "N = 20\n",
    "\n",
    "arr, orthogonal_arr, correlation = ortho_arrays(N)"
   ]
  },
  {
   "cell_type": "code",
   "execution_count": 151,
   "metadata": {},
   "outputs": [
    {
     "data": {
      "text/html": [
       "<div>\n",
       "<style scoped>\n",
       "    .dataframe tbody tr th:only-of-type {\n",
       "        vertical-align: middle;\n",
       "    }\n",
       "\n",
       "    .dataframe tbody tr th {\n",
       "        vertical-align: top;\n",
       "    }\n",
       "\n",
       "    .dataframe thead th {\n",
       "        text-align: right;\n",
       "    }\n",
       "</style>\n",
       "<table border=\"1\" class=\"dataframe\">\n",
       "  <thead>\n",
       "    <tr style=\"text-align: right;\">\n",
       "      <th></th>\n",
       "      <th>array</th>\n",
       "      <th>orthgonal array</th>\n",
       "    </tr>\n",
       "  </thead>\n",
       "  <tbody>\n",
       "    <tr>\n",
       "      <th>0</th>\n",
       "      <td>2.362291</td>\n",
       "      <td>-0.040094</td>\n",
       "    </tr>\n",
       "    <tr>\n",
       "      <th>1</th>\n",
       "      <td>-1.881089</td>\n",
       "      <td>1.452704</td>\n",
       "    </tr>\n",
       "    <tr>\n",
       "      <th>2</th>\n",
       "      <td>0.525728</td>\n",
       "      <td>-1.312826</td>\n",
       "    </tr>\n",
       "    <tr>\n",
       "      <th>3</th>\n",
       "      <td>-0.384927</td>\n",
       "      <td>-1.402783</td>\n",
       "    </tr>\n",
       "    <tr>\n",
       "      <th>4</th>\n",
       "      <td>1.052469</td>\n",
       "      <td>1.007044</td>\n",
       "    </tr>\n",
       "  </tbody>\n",
       "</table>\n",
       "</div>"
      ],
      "text/plain": [
       "      array  orthgonal array\n",
       "0  2.362291        -0.040094\n",
       "1 -1.881089         1.452704\n",
       "2  0.525728        -1.312826\n",
       "3 -0.384927        -1.402783\n",
       "4  1.052469         1.007044"
      ]
     },
     "execution_count": 151,
     "metadata": {},
     "output_type": "execute_result"
    }
   ],
   "source": [
    "df = pd.DataFrame(np.column_stack((arr, orthogonal_arr)), columns=[\"array\", \"orthgonal array\"])\n",
    "\n",
    "df.head()"
   ]
  },
  {
   "cell_type": "code",
   "execution_count": 152,
   "metadata": {},
   "outputs": [
    {
     "data": {
      "text/html": [
       "<div>\n",
       "<style scoped>\n",
       "    .dataframe tbody tr th:only-of-type {\n",
       "        vertical-align: middle;\n",
       "    }\n",
       "\n",
       "    .dataframe tbody tr th {\n",
       "        vertical-align: top;\n",
       "    }\n",
       "\n",
       "    .dataframe thead th {\n",
       "        text-align: right;\n",
       "    }\n",
       "</style>\n",
       "<table border=\"1\" class=\"dataframe\">\n",
       "  <thead>\n",
       "    <tr style=\"text-align: right;\">\n",
       "      <th></th>\n",
       "      <th>array</th>\n",
       "      <th>orthgonal array</th>\n",
       "    </tr>\n",
       "  </thead>\n",
       "  <tbody>\n",
       "    <tr>\n",
       "      <th>array</th>\n",
       "      <td>1.000000e+00</td>\n",
       "      <td>2.860517e-17</td>\n",
       "    </tr>\n",
       "    <tr>\n",
       "      <th>orthgonal array</th>\n",
       "      <td>2.860517e-17</td>\n",
       "      <td>1.000000e+00</td>\n",
       "    </tr>\n",
       "  </tbody>\n",
       "</table>\n",
       "</div>"
      ],
      "text/plain": [
       "                        array  orthgonal array\n",
       "array            1.000000e+00     2.860517e-17\n",
       "orthgonal array  2.860517e-17     1.000000e+00"
      ]
     },
     "execution_count": 152,
     "metadata": {},
     "output_type": "execute_result"
    }
   ],
   "source": [
    "# Correlation matrix of the two vectors\n",
    "\n",
    "df.corr()"
   ]
  },
  {
   "cell_type": "markdown",
   "metadata": {},
   "source": [
    "Now we can verify exactly that the coefficients are the same for the regressions. We will run three regressions."
   ]
  },
  {
   "cell_type": "code",
   "execution_count": 153,
   "metadata": {},
   "outputs": [],
   "source": [
    "# Regression formulas and pretty outputs\n",
    "\n",
    "import statsmodels.formula.api as smf"
   ]
  },
  {
   "cell_type": "code",
   "execution_count": 154,
   "metadata": {},
   "outputs": [],
   "source": [
    "N = 30\n",
    "\n",
    "y = rng.standard_normal(N)\n",
    "x, z, _ = ortho_arrays(N)\n",
    "\n",
    "matrix = pd.DataFrame({\"y\": y, \"x\": x.flatten(), \"z\" :z.flatten()})"
   ]
  },
  {
   "cell_type": "code",
   "execution_count": 155,
   "metadata": {},
   "outputs": [],
   "source": [
    "reg_y_x = smf.ols(\"y ~ x\", data=matrix).fit().params\n",
    "reg_y_z = smf.ols(\"y ~ z\", data=matrix).fit().params\n",
    "reg_y_xz = smf.ols(\"y ~ x + z\", data=matrix).fit().params"
   ]
  },
  {
   "cell_type": "code",
   "execution_count": 160,
   "metadata": {},
   "outputs": [
    {
     "data": {
      "text/html": [
       "<div>\n",
       "<style scoped>\n",
       "    .dataframe tbody tr th:only-of-type {\n",
       "        vertical-align: middle;\n",
       "    }\n",
       "\n",
       "    .dataframe tbody tr th {\n",
       "        vertical-align: top;\n",
       "    }\n",
       "\n",
       "    .dataframe thead th {\n",
       "        text-align: right;\n",
       "    }\n",
       "</style>\n",
       "<table border=\"1\" class=\"dataframe\">\n",
       "  <thead>\n",
       "    <tr style=\"text-align: right;\">\n",
       "      <th></th>\n",
       "      <th>y ~ x</th>\n",
       "      <th>y ~ z</th>\n",
       "      <th>y ~ x + z</th>\n",
       "    </tr>\n",
       "  </thead>\n",
       "  <tbody>\n",
       "    <tr>\n",
       "      <th>Intercept</th>\n",
       "      <td>-0.191517</td>\n",
       "      <td>-0.198375</td>\n",
       "      <td>-0.191517</td>\n",
       "    </tr>\n",
       "    <tr>\n",
       "      <th>x</th>\n",
       "      <td>0.0255694</td>\n",
       "      <td></td>\n",
       "      <td>0.025569</td>\n",
       "    </tr>\n",
       "    <tr>\n",
       "      <th>z</th>\n",
       "      <td></td>\n",
       "      <td>-0.353022</td>\n",
       "      <td>-0.353022</td>\n",
       "    </tr>\n",
       "  </tbody>\n",
       "</table>\n",
       "</div>"
      ],
      "text/plain": [
       "               y ~ x     y ~ z  y ~ x + z\n",
       "Intercept  -0.191517 -0.198375  -0.191517\n",
       "x          0.0255694             0.025569\n",
       "z                    -0.353022  -0.353022"
      ]
     },
     "execution_count": 160,
     "metadata": {},
     "output_type": "execute_result"
    }
   ],
   "source": [
    "col_names = {0:\"y ~ x\", 1:\"y ~ z\", 2:\"y ~ x + z\"}\n",
    "\n",
    "results = pd.DataFrame([reg_y_x, reg_y_z, reg_y_xz]).T\n",
    "\n",
    "results = results.rename(columns=col_names).replace(np.nan, \"\")\n",
    "\n",
    "results"
   ]
  },
  {
   "cell_type": "markdown",
   "metadata": {},
   "source": [
    "We can now see that the coefficients are indeed exactly the same!\n",
    "\n",
    "This is the end of the notebook and the exercise."
   ]
  },
  {
   "cell_type": "markdown",
   "metadata": {},
   "source": [
    "### Bonus\n",
    "\n",
    "Actually, there is a function in scipy that uses Singular Value Decomposition (SVD) to create orthogonal columns from a matrix, it is shown down below. I simply rescaled the matrix to ensure reliable results. "
   ]
  },
  {
   "cell_type": "code",
   "execution_count": 158,
   "metadata": {},
   "outputs": [
    {
     "name": "stdout",
     "output_type": "stream",
     "text": [
      "\n",
      " Correlations of the columns \n",
      "\n"
     ]
    },
    {
     "data": {
      "text/html": [
       "<div>\n",
       "<style scoped>\n",
       "    .dataframe tbody tr th:only-of-type {\n",
       "        vertical-align: middle;\n",
       "    }\n",
       "\n",
       "    .dataframe tbody tr th {\n",
       "        vertical-align: top;\n",
       "    }\n",
       "\n",
       "    .dataframe thead th {\n",
       "        text-align: right;\n",
       "    }\n",
       "</style>\n",
       "<table border=\"1\" class=\"dataframe\">\n",
       "  <thead>\n",
       "    <tr style=\"text-align: right;\">\n",
       "      <th></th>\n",
       "      <th>column 1</th>\n",
       "      <th>column 2</th>\n",
       "      <th>column 3</th>\n",
       "      <th>column 4</th>\n",
       "    </tr>\n",
       "  </thead>\n",
       "  <tbody>\n",
       "    <tr>\n",
       "      <th>0</th>\n",
       "      <td>1.000000e+00</td>\n",
       "      <td>1.117515e-17</td>\n",
       "      <td>-8.205902e-18</td>\n",
       "      <td>2.256900e-16</td>\n",
       "    </tr>\n",
       "    <tr>\n",
       "      <th>1</th>\n",
       "      <td>1.117515e-17</td>\n",
       "      <td>1.000000e+00</td>\n",
       "      <td>-1.725056e-16</td>\n",
       "      <td>1.623990e-16</td>\n",
       "    </tr>\n",
       "    <tr>\n",
       "      <th>2</th>\n",
       "      <td>-8.205902e-18</td>\n",
       "      <td>-1.725056e-16</td>\n",
       "      <td>1.000000e+00</td>\n",
       "      <td>3.447038e-16</td>\n",
       "    </tr>\n",
       "    <tr>\n",
       "      <th>3</th>\n",
       "      <td>2.256900e-16</td>\n",
       "      <td>1.623990e-16</td>\n",
       "      <td>3.447038e-16</td>\n",
       "      <td>1.000000e+00</td>\n",
       "    </tr>\n",
       "  </tbody>\n",
       "</table>\n",
       "</div>"
      ],
      "text/plain": [
       "       column 1      column 2      column 3      column 4\n",
       "0  1.000000e+00  1.117515e-17 -8.205902e-18  2.256900e-16\n",
       "1  1.117515e-17  1.000000e+00 -1.725056e-16  1.623990e-16\n",
       "2 -8.205902e-18 -1.725056e-16  1.000000e+00  3.447038e-16\n",
       "3  2.256900e-16  1.623990e-16  3.447038e-16  1.000000e+00"
      ]
     },
     "execution_count": 158,
     "metadata": {},
     "output_type": "execute_result"
    }
   ],
   "source": [
    "from scipy.linalg import orth\n",
    "\n",
    "def uncorrelated_matrix(size=None):\n",
    "    X = rng.standard_normal(size)\n",
    "    X = orth(X - X.mean(axis=0))\n",
    "    X = X/X.std(axis=0)\n",
    "    return X\n",
    "\n",
    "mat = uncorrelated_matrix(size = (30, 4))\n",
    "\n",
    "print(\"\\n\",\"Correlations of the columns\", \"\\n\")\n",
    "pd.DataFrame(np.corrcoef(mat, rowvar=False), columns=[f\"column {i}\" for i in range(1, mat.shape[1]+1)])"
   ]
  },
  {
   "cell_type": "markdown",
   "metadata": {},
   "source": [
    "END"
   ]
  }
 ],
 "metadata": {
  "kernelspec": {
   "display_name": "Python 3",
   "language": "python",
   "name": "python3"
  },
  "language_info": {
   "codemirror_mode": {
    "name": "ipython",
    "version": 3
   },
   "file_extension": ".py",
   "mimetype": "text/x-python",
   "name": "python",
   "nbconvert_exporter": "python",
   "pygments_lexer": "ipython3",
   "version": "3.8.2"
  },
  "name": "Transforming-samples.ipynb"
 },
 "nbformat": 4,
 "nbformat_minor": 4
}
